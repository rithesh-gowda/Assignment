{
  "metadata": {
    "language_info": {
      "codemirror_mode": {
        "name": "python",
        "version": 3
      },
      "file_extension": ".py",
      "mimetype": "text/x-python",
      "name": "python",
      "nbconvert_exporter": "python",
      "pygments_lexer": "ipython3",
      "version": "3.8"
    },
    "kernelspec": {
      "name": "python",
      "display_name": "Python (Pyodide)",
      "language": "python"
    }
  },
  "nbformat_minor": 4,
  "nbformat": 4,
  "cells": [
    {
      "cell_type": "markdown",
      "source": "# H1: DataScienceEcoSystem",
      "metadata": {}
    },
    {
      "cell_type": "markdown",
      "source": "# H2: Introduction\nThis a DataScience EcoSystem Page have lot of new ideas are invloved.",
      "metadata": {}
    },
    {
      "cell_type": "markdown",
      "source": "# Executed as a unorderd list\n- Python\n- R\n- RStudio\n- Julia",
      "metadata": {}
    },
    {
      "cell_type": "markdown",
      "source": "# Executed as a Orderd list\n1. Python\n2. R\n3. RStudio\n4. Julia",
      "metadata": {}
    },
    {
      "cell_type": "markdown",
      "source": "# Executed as a Orderd list Libraries\n1. Pandas\n2. numpy\n3. sklearn\n4. Tenserflow",
      "metadata": {}
    },
    {
      "cell_type": "markdown",
      "source": "# Tables for open source tools\n|Data Science Tools|\n|------------------|\n|RStudio|\n|Tensrflow|\n|Hadoop|\n|Apache Spark|",
      "metadata": {}
    },
    {
      "cell_type": "markdown",
      "source": "### H3: Below are a few examples of evaluating arithmetic expressions in Python.\n",
      "metadata": {}
    },
    {
      "cell_type": "code",
      "source": "code = compile(\"10 + 10\", \"<string>\", \"eval\")\neval(code)",
      "metadata": {
        "trusted": true
      },
      "execution_count": 4,
      "outputs": [
        {
          "execution_count": 4,
          "output_type": "execute_result",
          "data": {
            "text/plain": "20"
          },
          "metadata": {}
        }
      ]
    },
    {
      "cell_type": "code",
      "source": "(3*4)+5",
      "metadata": {
        "trusted": true
      },
      "execution_count": 3,
      "outputs": [
        {
          "execution_count": 3,
          "output_type": "execute_result",
          "data": {
            "text/plain": "17"
          },
          "metadata": {}
        }
      ]
    },
    {
      "cell_type": "markdown",
      "source": "### This will convert 200 minutes to hours by diving by 60",
      "metadata": {}
    },
    {
      "cell_type": "code",
      "source": "hours=0\nminutes=0\ntime=200\nminutes=time%1440\nhours= minutes/60\nprint(str(hours) + \"hours. \")",
      "metadata": {
        "trusted": true
      },
      "execution_count": 7,
      "outputs": [
        {
          "name": "stdout",
          "text": "3.3333333333333335hours. \n",
          "output_type": "stream"
        }
      ]
    },
    {
      "cell_type": "markdown",
      "source": "__#H1: Objectives__\n",
      "metadata": {}
    },
    {
      "cell_type": "markdown",
      "source": "# unorederd list\n- jupyter notebook\n- Jupyter Architecture\n- Anaconda navigator",
      "metadata": {}
    },
    {
      "cell_type": "markdown",
      "source": "# popular languages of data science\n1. Python.\n2. R.\n3. SQL.\n4. Java.\n5. Julia.",
      "metadata": {}
    },
    {
      "cell_type": "markdown",
      "source": "## H2: Author\nRithesh Kumar",
      "metadata": {}
    },
    {
      "cell_type": "code",
      "source": "",
      "metadata": {},
      "execution_count": null,
      "outputs": []
    }
  ]
}